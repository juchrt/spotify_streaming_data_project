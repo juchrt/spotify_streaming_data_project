{
 "cells": [
  {
   "cell_type": "code",
   "execution_count": 54,
   "metadata": {},
   "outputs": [],
   "source": [
    "import pandas as pd \n",
    "import os\n",
    "import numpy as np\n",
    "import glob\n",
    "pd.set_option('display.max_columns', None)"
   ]
  },
  {
   "cell_type": "code",
   "execution_count": 55,
   "metadata": {},
   "outputs": [],
   "source": [
    "df = pd.DataFrame()\n",
    "\n",
    "path_to_json = '../data/input/' \n",
    "\n",
    "json_pattern = os.path.join(path_to_json,'*.json')\n",
    "file_list = glob.glob(json_pattern)\n",
    "\n",
    "dfs = [] # an empty list to store the data frames\n",
    "for file in file_list:\n",
    "    data = pd.read_json(file) # read data frame from json file\n",
    "    dfs.append(data) # append the data frame to the list\n",
    "\n",
    "df = pd.concat(dfs, ignore_index=True) # concatenate all the data frames in the list.\n",
    "\n",
    "#df = pd.read_json('../data/Streaming_History_Audio_2020_0.json')\n",
    "#print(df)"
   ]
  },
  {
   "cell_type": "code",
   "execution_count": null,
   "metadata": {},
   "outputs": [],
   "source": [
    "df.info()"
   ]
  },
  {
   "cell_type": "code",
   "execution_count": null,
   "metadata": {},
   "outputs": [],
   "source": [
    "df.shape"
   ]
  },
  {
   "cell_type": "code",
   "execution_count": null,
   "metadata": {},
   "outputs": [],
   "source": [
    "sum_ms = df.groupby([\"master_metadata_track_name\", \"master_metadata_album_artist_name\", \"master_metadata_album_album_name\"], as_index=False)[\"ms_played\"].sum()\n",
    "sum_ms['time'] = pd.to_timedelta(sum_ms['ms_played'], unit='ms')\n",
    "sum_ms.sort_values(by=['ms_played'], ascending=False).head(50)"
   ]
  },
  {
   "cell_type": "code",
   "execution_count": null,
   "metadata": {},
   "outputs": [],
   "source": [
    "sum_ms['ms_played'].sum()"
   ]
  },
  {
   "cell_type": "code",
   "execution_count": null,
   "metadata": {},
   "outputs": [],
   "source": [
    "pd.to_timedelta(sum_ms['ms_played'].sum(), unit='ms')"
   ]
  },
  {
   "cell_type": "code",
   "execution_count": null,
   "metadata": {},
   "outputs": [],
   "source": [
    "podcasts = df.groupby([\"episode_show_name\"], as_index=False)[\"ms_played\"].sum()\n",
    "podcasts['time'] = pd.to_timedelta(podcasts['ms_played'], unit='ms')\n",
    "podcasts.sort_values(by=['ms_played'], ascending=False).head(10)"
   ]
  },
  {
   "cell_type": "code",
   "execution_count": null,
   "metadata": {},
   "outputs": [],
   "source": [
    "artists = df.groupby([\"master_metadata_album_artist_name\"], as_index=False)[\"ms_played\"].sum()\n",
    "artists['time'] = pd.to_timedelta(artists['ms_played'], unit='ms')\n",
    "artists.sort_values(by=['ms_played'], ascending=False).head(30)"
   ]
  },
  {
   "cell_type": "code",
   "execution_count": null,
   "metadata": {},
   "outputs": [],
   "source": [
    "albums = df.groupby([\"master_metadata_album_album_name\", \"master_metadata_album_artist_name\"], as_index=False)[\"ms_played\"].sum()\n",
    "albums['time'] = pd.to_timedelta(albums['ms_played'], unit='ms')\n",
    "albums.sort_values(by=['ms_played'], ascending=False).head(30)"
   ]
  },
  {
   "cell_type": "code",
   "execution_count": null,
   "metadata": {},
   "outputs": [],
   "source": []
  }
 ],
 "metadata": {
  "kernelspec": {
   "display_name": "base",
   "language": "python",
   "name": "python3"
  },
  "language_info": {
   "codemirror_mode": {
    "name": "ipython",
    "version": 3
   },
   "file_extension": ".py",
   "mimetype": "text/x-python",
   "name": "python",
   "nbconvert_exporter": "python",
   "pygments_lexer": "ipython3",
   "version": "3.12.4"
  }
 },
 "nbformat": 4,
 "nbformat_minor": 2
}
